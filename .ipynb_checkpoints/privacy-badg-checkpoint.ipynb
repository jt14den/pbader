{
 "cells": [
  {
   "cell_type": "markdown",
   "metadata": {},
   "source": [
    "## Setup"
   ]
  },
  {
   "cell_type": "markdown",
   "metadata": {},
   "source": [
    "1. you need python (I recommend installing anaconda python for your OS) \n",
    "2. you'll need to install selenium:"
   ]
  },
  {
   "cell_type": "code",
   "execution_count": 15,
   "metadata": {},
   "outputs": [
    {
     "name": "stdout",
     "output_type": "stream",
     "text": [
      "Requirement already satisfied: selenium in ./anaconda3/envs/pbadger/lib/python3.6/site-packages\n"
     ]
    }
   ],
   "source": [
    "#pip is a python package mgr\n",
    "!pip install selenium"
   ]
  },
  {
   "cell_type": "markdown",
   "metadata": {},
   "source": [
    "Import the selenium webdriver"
   ]
  },
  {
   "cell_type": "code",
   "execution_count": 1,
   "metadata": {},
   "outputs": [],
   "source": [
    "from selenium import webdriver"
   ]
  },
  {
   "cell_type": "markdown",
   "metadata": {},
   "source": [
    "* We need to then create the firefox instance\n",
    "* You'll need to install it first :) https://github.com/mozilla/geckodriver/releases\n",
    "    * There's also a chrome driver but i've used the firefox one before, so path of least resistance for me\n",
    "    * On my machine I had to make sure it was in the path, so selenium can find (i'm on a linux machine)\n",
    "* If you are on a mac, look into [homebrew](https://brew.sh/) -- a package and dependency manager to make it easier to install tools"
   ]
  },
  {
   "cell_type": "code",
   "execution_count": 2,
   "metadata": {},
   "outputs": [],
   "source": [
    "driver = webdriver.Firefox()\n",
    "#this will pop up a browser instance - we can also run headless, \n",
    "#but let's keep it visual for now"
   ]
  },
  {
   "cell_type": "code",
   "execution_count": 3,
   "metadata": {},
   "outputs": [],
   "source": [
    "#OPen our page\n",
    "driver.get('https://chrome.google.com/webstore/detail/privacy-badger/pkehgijcmpdhfbdbbnkijodmdjhbjlgp/reviews')"
   ]
  },
  {
   "cell_type": "code",
   "execution_count": 4,
   "metadata": {},
   "outputs": [],
   "source": [
    "assert \"Privacy\" in driver.title #test to see if 'Privacy' is in the page\n",
    "# will throw error if not there"
   ]
  },
  {
   "cell_type": "code",
   "execution_count": 5,
   "metadata": {},
   "outputs": [],
   "source": [
    "driver.maximize_window()"
   ]
  },
  {
   "cell_type": "code",
   "execution_count": 11,
   "metadata": {},
   "outputs": [],
   "source": [
    "comments = driver.find_elements_by_class_name('ba-bc-Xb-K')"
   ]
  },
  {
   "cell_type": "code",
   "execution_count": 15,
   "metadata": {},
   "outputs": [
    {
     "name": "stdout",
     "output_type": "stream",
     "text": [
      "\n",
      "\n",
      "\n",
      "\n",
      "works well for the simple stuff I do, causes bugs on some pages but all you have to do is toggle with the blocking settings so that's not a big deal.\n",
      "Privacy is Important , sharing is okay, but only with transparency\n",
      "This is an absolutely spineless, brainless bunch of garbage for a review. I dare you to explain what that sentence means.\n",
      "It is great so far! Don't be alarmed when at first all tracker sites show as green. Once it realizes that a tracker follows you to other websites, it disables it.\n",
      "\n",
      "I tested it on a few privacy testing websites and it performed well.\n",
      "Excellent idea, will follow in the future.\n",
      "\n",
      "Breaks Binance.com's candlestick views on charts badly, even when turned off for that site (e.g. https://www.binance.com/tradeDetail.html?symbol=AST_BTC , turn on 5m candelsticks)\n",
      "Disabling on the site will be fixed to work as expected after the next Privacy Badger update.\n",
      "\n",
      "To get help with Privacy Badger, please visit our GitHub issue tracker at https://github.com/EFForg/privacybadger/issues, or email extension-devs@eff.org.\n",
      "I'm not sure how effective it is. It allows some trackers that it considers to be okay. Also, having it seems redundant if you're using uBlock Origin.\n",
      "Privacy Badger does not come with a list of domains to block. Instead, Privacy Badger watches which third-party domains appear to track you as you browse the Web. If Privacy Badger sees the same domain track you across three different sites, Privacy Badger will start blocking resources from that domain.\n",
      "\n",
      "We are working on making the way Privacy Badger works more clear in the future.\n",
      "\n",
      "if you use other privacy tools or ad blockers in combination with Privacy Badger, your Badger will learn to block far fewer domains. This is fine: Privacy Badger will be there to catch whatever your other blockers let through.\n",
      "Not really suitable for first-line defense yet.\n",
      "Needs more specialisation, research, and aggression. ~Okay for average users.\n",
      "This is an absolutely spineless, brainless bunch of garbage for a review. I dare you to explain what that sentence means.\n",
      "Love it you will not be disappointed.\n",
      "good in 8.1\n",
      "so far, so good.\n",
      "It sometimes block the opening of a webpage and all the sharing button goes away when this extension is allowed until then it great and makes us feel that we have be saved.\n",
      "It basically works well but if your militant about blocking the deluge of junk being forced into your browsing experience then you may think Badger lets to much through by default. In a sense it does, as it requires you to be actively (pro-actively) adjusting the settings to suite your preferences which gets a bit tedious.\n",
      "Works well enough to not destroy my experience online. I wonder why it keeps giving me message \"Not from Chrome Web Store\" when I look at the information about it, although it clearly came from the webstore.\n",
      "This is fixed as of Privacy Badger 2018.1.25, released earlier today.\n",
      "I think it was originally a Firefox app?\n",
      "better than Ghostry. Badger don't care. Badger doesn't give a s***!\n",
      "It whitelists every single ad company tracker. You have to manually set everything which means those crappy ad companies already got some of your data.\n",
      "It dosnt whitelist It blocks from traking your ip\n",
      "Privacy Badger is meant to be a hands-off, install-and-forget kind of extension. It should learn (and keep learning) what to block automatically as you browse the Web.\n",
      "\n",
      "To get help with Privacy Badger, please visit our GitHub issue tracker at https://github.com/EFForg/privacybadger/issues, or email extension-devs@eff.org.\n",
      "I've been using privacy badger for a while, It does what it's advertised to too, and not much of a hassle to deal with.\n",
      "Easy 5 stars in my book.\n",
      "Users should decide what extension to enable, independently. Latest Chrome version 64 forced it to unable. Found new Privacy Badger here in the store, whew.\n",
      "It used to work, now it just green lists everything by default. I tried it on both firefox and chrome. I tried a variety of sites that have a variety of trackers and it just lists all the cookies and green lists all of them.\n",
      "Works very well but it's not magic; be prepared to manage some cookies yourself.\n",
      "i use this with avast security for very good protection\n",
      "It's effective against intrusive ads and spying/tracking.\n",
      "I installed this and when I go to Extensions I get a warning that says \"Not From Chrome Web Store\", even though I added it from Chrome Web Store.\n",
      "This is fixed as of Privacy Badger 2018.1.25, released earlier today.\n",
      "Great Stuff !\n",
      "It just works A*****\n",
      "IT IS TOTALLY AWESOME!!!\n",
      "Great App!\n"
     ]
    }
   ],
   "source": [
    "for com in comments:\n",
    "    print(com.find_element_by_css_selector('div.ba-Eb-ba').text)"
   ]
  },
  {
   "cell_type": "markdown",
   "metadata": {},
   "source": [
    "* If you open that page and inspect elements, you'll notice that there is no accurate number of total pages or entries in the page\n",
    "* We want to loop over all pages, but for a loop to work in python we need to iterate over a collection (we have no collection to derive in the page b/c the x of x pages is incorrect)\n",
    "* I manually navigated the pages and there were 13\n",
    "* I'm using the `range` function below to create a number range to loop over that's finite, there are other ways to get about this\n",
    "* We will also test"
   ]
  },
  {
   "cell_type": "code",
   "execution_count": 27,
   "metadata": {},
   "outputs": [],
   "source": [
    "for p in range(12):\n",
    "    driver.find_element_by_class_name(\"Aa.dc-se\").click()"
   ]
  },
  {
   "cell_type": "code",
   "execution_count": 32,
   "metadata": {},
   "outputs": [
    {
     "ename": "SyntaxError",
     "evalue": "invalid syntax (<ipython-input-32-0df8d6725509>, line 1)",
     "output_type": "error",
     "traceback": [
      "\u001b[0;36m  File \u001b[0;32m\"<ipython-input-32-0df8d6725509>\"\u001b[0;36m, line \u001b[0;32m1\u001b[0m\n\u001b[0;31m    print(driver.find_elements_by_xpath('//a')[@style='display: none;'])\u001b[0m\n\u001b[0m                                               ^\u001b[0m\n\u001b[0;31mSyntaxError\u001b[0m\u001b[0;31m:\u001b[0m invalid syntax\n"
     ]
    }
   ],
   "source": [
    "print(driver.find_elements_by_xpath('//a')[@style='display: none;'])"
   ]
  },
  {
   "cell_type": "code",
   "execution_count": null,
   "metadata": {},
   "outputs": [],
   "source": []
  }
 ],
 "metadata": {
  "kernelspec": {
   "display_name": "Python 3",
   "language": "python",
   "name": "python3"
  },
  "language_info": {
   "codemirror_mode": {
    "name": "ipython",
    "version": 3
   },
   "file_extension": ".py",
   "mimetype": "text/x-python",
   "name": "python",
   "nbconvert_exporter": "python",
   "pygments_lexer": "ipython3",
   "version": "3.6.4"
  }
 },
 "nbformat": 4,
 "nbformat_minor": 2
}
