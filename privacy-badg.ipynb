{
 "cells": [
  {
   "cell_type": "markdown",
   "metadata": {},
   "source": [
    "## Setup"
   ]
  },
  {
   "cell_type": "markdown",
   "metadata": {},
   "source": [
    "1. you need python (I recommend installing anaconda python for your OS) \n",
    "2. you'll need to install selenium:"
   ]
  },
  {
   "cell_type": "code",
   "execution_count": 15,
   "metadata": {},
   "outputs": [
    {
     "name": "stdout",
     "output_type": "stream",
     "text": [
      "Requirement already satisfied: selenium in ./anaconda3/envs/pbadger/lib/python3.6/site-packages\n"
     ]
    }
   ],
   "source": [
    "#pip is a python package mgr\n",
    "!pip install selenium"
   ]
  },
  {
   "cell_type": "markdown",
   "metadata": {},
   "source": [
    "Import the selenium webdriver"
   ]
  },
  {
   "cell_type": "code",
   "execution_count": 16,
   "metadata": {},
   "outputs": [],
   "source": [
    "from selenium import webdriver\n",
    "from selenium.common.exceptions import NoSuchElementException"
   ]
  },
  {
   "cell_type": "markdown",
   "metadata": {},
   "source": [
    "* We need to then create the firefox instance\n",
    "* You'll need to install it first :) https://github.com/mozilla/geckodriver/releases\n",
    "    * There's also a chrome driver but i've used the firefox one before, so path of least resistance for me\n",
    "    * On my machine I had to make sure it was in the path, so selenium can find (i'm on a linux machine)\n",
    "* If you are on a mac, look into [homebrew](https://brew.sh/) -- a package and dependency manager to make it easier to install tools"
   ]
  },
  {
   "cell_type": "code",
   "execution_count": 2,
   "metadata": {},
   "outputs": [],
   "source": [
    "driver = webdriver.Firefox()\n",
    "#this will pop up a browser instance - we can also run headless, \n",
    "#but let's keep it visual for now"
   ]
  },
  {
   "cell_type": "code",
   "execution_count": 3,
   "metadata": {},
   "outputs": [],
   "source": [
    "#OPen our page\n",
    "driver.get('https://chrome.google.com/webstore/detail/privacy-badger/pkehgijcmpdhfbdbbnkijodmdjhbjlgp/reviews')"
   ]
  },
  {
   "cell_type": "code",
   "execution_count": 4,
   "metadata": {},
   "outputs": [],
   "source": [
    "assert \"Privacy\" in driver.title #test to see if 'Privacy' is in the page\n",
    "# will throw error if not there"
   ]
  },
  {
   "cell_type": "code",
   "execution_count": 5,
   "metadata": {},
   "outputs": [],
   "source": [
    "driver.maximize_window()"
   ]
  },
  {
   "cell_type": "code",
   "execution_count": 24,
   "metadata": {},
   "outputs": [],
   "source": [
    "comments = driver.find_elements_by_class_name('ba-bc-Xb-K')"
   ]
  },
  {
   "cell_type": "code",
   "execution_count": 25,
   "metadata": {},
   "outputs": [],
   "source": [
    "all_data = []"
   ]
  },
  {
   "cell_type": "code",
   "execution_count": 41,
   "metadata": {},
   "outputs": [],
   "source": [
    "five = driver.find_elements_by_class_name('ba-Eb-N')"
   ]
  },
  {
   "cell_type": "code",
   "execution_count": 43,
   "metadata": {},
   "outputs": [
    {
     "data": {
      "text/plain": [
       "[<selenium.webdriver.firefox.webelement.FirefoxWebElement (session=\"694201b8-3783-48aa-8d39-40b3a00a013f\", element=\"e7e1429a-b41b-4a83-9535-0d562d90590d\")>,\n",
       " <selenium.webdriver.firefox.webelement.FirefoxWebElement (session=\"694201b8-3783-48aa-8d39-40b3a00a013f\", element=\"c225a2c8-251f-443f-bb27-9cefb920f750\")>,\n",
       " <selenium.webdriver.firefox.webelement.FirefoxWebElement (session=\"694201b8-3783-48aa-8d39-40b3a00a013f\", element=\"78bd81ea-eaac-422d-aa71-e68d839bde8c\")>,\n",
       " <selenium.webdriver.firefox.webelement.FirefoxWebElement (session=\"694201b8-3783-48aa-8d39-40b3a00a013f\", element=\"870bafd5-b319-4cdf-b7d0-ae15b2adc716\")>,\n",
       " <selenium.webdriver.firefox.webelement.FirefoxWebElement (session=\"694201b8-3783-48aa-8d39-40b3a00a013f\", element=\"95b7574c-9766-47d7-a698-9186d6f490cf\")>,\n",
       " <selenium.webdriver.firefox.webelement.FirefoxWebElement (session=\"694201b8-3783-48aa-8d39-40b3a00a013f\", element=\"703c0997-7237-4bb7-8b1b-a491a544c8e4\")>,\n",
       " <selenium.webdriver.firefox.webelement.FirefoxWebElement (session=\"694201b8-3783-48aa-8d39-40b3a00a013f\", element=\"6e65cf28-ede7-4ba6-8a67-33a19583dd60\")>,\n",
       " <selenium.webdriver.firefox.webelement.FirefoxWebElement (session=\"694201b8-3783-48aa-8d39-40b3a00a013f\", element=\"7faab3b8-9b05-48d8-ace5-e514f0eb285c\")>,\n",
       " <selenium.webdriver.firefox.webelement.FirefoxWebElement (session=\"694201b8-3783-48aa-8d39-40b3a00a013f\", element=\"c5663371-349b-4de3-bd51-b09d954a4a96\")>,\n",
       " <selenium.webdriver.firefox.webelement.FirefoxWebElement (session=\"694201b8-3783-48aa-8d39-40b3a00a013f\", element=\"e1d99667-01a1-422b-9d3e-5e4079338801\")>,\n",
       " <selenium.webdriver.firefox.webelement.FirefoxWebElement (session=\"694201b8-3783-48aa-8d39-40b3a00a013f\", element=\"10580e0e-c43d-4e71-a0c5-d9232be15516\")>,\n",
       " <selenium.webdriver.firefox.webelement.FirefoxWebElement (session=\"694201b8-3783-48aa-8d39-40b3a00a013f\", element=\"544935a9-bbb0-4a84-964f-b193bbe35c19\")>,\n",
       " <selenium.webdriver.firefox.webelement.FirefoxWebElement (session=\"694201b8-3783-48aa-8d39-40b3a00a013f\", element=\"73d54daf-0797-4398-8e88-9601597d1c88\")>,\n",
       " <selenium.webdriver.firefox.webelement.FirefoxWebElement (session=\"694201b8-3783-48aa-8d39-40b3a00a013f\", element=\"ca0c7ae4-82b0-4b4d-acc7-78ca1b6120e2\")>,\n",
       " <selenium.webdriver.firefox.webelement.FirefoxWebElement (session=\"694201b8-3783-48aa-8d39-40b3a00a013f\", element=\"8350245d-f9f7-47c3-b888-366dc1553a3c\")>,\n",
       " <selenium.webdriver.firefox.webelement.FirefoxWebElement (session=\"694201b8-3783-48aa-8d39-40b3a00a013f\", element=\"cf1b3d89-9263-484d-84fa-7b3b943db678\")>,\n",
       " <selenium.webdriver.firefox.webelement.FirefoxWebElement (session=\"694201b8-3783-48aa-8d39-40b3a00a013f\", element=\"3d23ff11-ff73-49cc-9695-69fa8d249388\")>,\n",
       " <selenium.webdriver.firefox.webelement.FirefoxWebElement (session=\"694201b8-3783-48aa-8d39-40b3a00a013f\", element=\"3cae57af-6872-44fb-ba47-4bfdc4086a54\")>,\n",
       " <selenium.webdriver.firefox.webelement.FirefoxWebElement (session=\"694201b8-3783-48aa-8d39-40b3a00a013f\", element=\"a8752ad0-7683-431f-9a1d-a62170fc403a\")>,\n",
       " <selenium.webdriver.firefox.webelement.FirefoxWebElement (session=\"694201b8-3783-48aa-8d39-40b3a00a013f\", element=\"cd186c00-9120-4bbd-b4c3-d3105657fe7f\")>,\n",
       " <selenium.webdriver.firefox.webelement.FirefoxWebElement (session=\"694201b8-3783-48aa-8d39-40b3a00a013f\", element=\"df916f00-1994-454e-814d-47d6da1055e3\")>,\n",
       " <selenium.webdriver.firefox.webelement.FirefoxWebElement (session=\"694201b8-3783-48aa-8d39-40b3a00a013f\", element=\"eb7100c5-790f-4620-b692-6ac7807973ad\")>,\n",
       " <selenium.webdriver.firefox.webelement.FirefoxWebElement (session=\"694201b8-3783-48aa-8d39-40b3a00a013f\", element=\"2f7ab81a-21d1-4cea-b215-9d35771c1fae\")>,\n",
       " <selenium.webdriver.firefox.webelement.FirefoxWebElement (session=\"694201b8-3783-48aa-8d39-40b3a00a013f\", element=\"470cff6a-9447-4957-9289-126764edb5c7\")>,\n",
       " <selenium.webdriver.firefox.webelement.FirefoxWebElement (session=\"694201b8-3783-48aa-8d39-40b3a00a013f\", element=\"64e186c3-ce59-4694-a581-f255282ddfea\")>,\n",
       " <selenium.webdriver.firefox.webelement.FirefoxWebElement (session=\"694201b8-3783-48aa-8d39-40b3a00a013f\", element=\"2804b400-709c-42ca-bd4e-d94575e346a4\")>,\n",
       " <selenium.webdriver.firefox.webelement.FirefoxWebElement (session=\"694201b8-3783-48aa-8d39-40b3a00a013f\", element=\"3a3d3c31-b7e4-438f-8b52-1234cc4e7f0f\")>]"
      ]
     },
     "execution_count": 43,
     "metadata": {},
     "output_type": "execute_result"
    }
   ],
   "source": [
    "driver.find_element_by_class_name"
   ]
  },
  {
   "cell_type": "code",
   "execution_count": 26,
   "metadata": {},
   "outputs": [],
   "source": [
    "for com in comments:\n",
    "    comments = {}\n",
    "    \n",
    "    comments['comment'] = com.find_element_by_css_selector('div.ba-Eb-ba').text\n",
    "    all_data.append(comments)"
   ]
  },
  {
   "cell_type": "code",
   "execution_count": 28,
   "metadata": {},
   "outputs": [
    {
     "name": "stdout",
     "output_type": "stream",
     "text": [
      "{'comment': ''}\n",
      "{'comment': ''}\n",
      "{'comment': ''}\n",
      "{'comment': ''}\n",
      "{'comment': \"works well for the simple stuff I do, causes bugs on some pages but all you have to do is toggle with the blocking settings so that's not a big deal.\"}\n",
      "{'comment': 'Privacy is Important , sharing is okay, but only with transparency'}\n",
      "{'comment': 'This is an absolutely spineless, brainless bunch of garbage for a review. I dare you to explain what that sentence means.'}\n",
      "{'comment': \"It is great so far! Don't be alarmed when at first all tracker sites show as green. Once it realizes that a tracker follows you to other websites, it disables it.\\n\\nI tested it on a few privacy testing websites and it performed well.\"}\n",
      "{'comment': \"Excellent idea, will follow in the future.\\n\\nBreaks Binance.com's candlestick views on charts badly, even when turned off for that site (e.g. https://www.binance.com/tradeDetail.html?symbol=AST_BTC , turn on 5m candelsticks)\"}\n",
      "{'comment': 'Disabling on the site will be fixed to work as expected after the next Privacy Badger update.\\n\\nTo get help with Privacy Badger, please visit our GitHub issue tracker at https://github.com/EFForg/privacybadger/issues, or email extension-devs@eff.org.'}\n",
      "{'comment': \"I'm not sure how effective it is. It allows some trackers that it considers to be okay. Also, having it seems redundant if you're using uBlock Origin.\"}\n",
      "{'comment': 'Privacy Badger does not come with a list of domains to block. Instead, Privacy Badger watches which third-party domains appear to track you as you browse the Web. If Privacy Badger sees the same domain track you across three different sites, Privacy Badger will start blocking resources from that domain.\\n\\nWe are working on making the way Privacy Badger works more clear in the future.\\n\\nif you use other privacy tools or ad blockers in combination with Privacy Badger, your Badger will learn to block far fewer domains. This is fine: Privacy Badger will be there to catch whatever your other blockers let through.'}\n",
      "{'comment': 'Not really suitable for first-line defense yet.\\nNeeds more specialisation, research, and aggression. ~Okay for average users.'}\n",
      "{'comment': 'This is an absolutely spineless, brainless bunch of garbage for a review. I dare you to explain what that sentence means.'}\n",
      "{'comment': 'Love it you will not be disappointed.'}\n",
      "{'comment': 'good in 8.1'}\n",
      "{'comment': 'so far, so good.'}\n",
      "{'comment': 'It sometimes block the opening of a webpage and all the sharing button goes away when this extension is allowed until then it great and makes us feel that we have be saved.'}\n",
      "{'comment': 'It basically works well but if your militant about blocking the deluge of junk being forced into your browsing experience then you may think Badger lets to much through by default. In a sense it does, as it requires you to be actively (pro-actively) adjusting the settings to suite your preferences which gets a bit tedious.'}\n",
      "{'comment': 'Works well enough to not destroy my experience online. I wonder why it keeps giving me message \"Not from Chrome Web Store\" when I look at the information about it, although it clearly came from the webstore.'}\n",
      "{'comment': 'This is fixed as of Privacy Badger 2018.1.25, released earlier today.'}\n",
      "{'comment': 'I think it was originally a Firefox app?'}\n",
      "{'comment': \"better than Ghostry. Badger don't care. Badger doesn't give a s***!\"}\n",
      "{'comment': 'It whitelists every single ad company tracker. You have to manually set everything which means those crappy ad companies already got some of your data.'}\n",
      "{'comment': 'It dosnt whitelist It blocks from traking your ip'}\n",
      "{'comment': 'Privacy Badger is meant to be a hands-off, install-and-forget kind of extension. It should learn (and keep learning) what to block automatically as you browse the Web.\\n\\nTo get help with Privacy Badger, please visit our GitHub issue tracker at https://github.com/EFForg/privacybadger/issues, or email extension-devs@eff.org.'}\n",
      "{'comment': \"I've been using privacy badger for a while, It does what it's advertised to too, and not much of a hassle to deal with.\\nEasy 5 stars in my book.\"}\n",
      "{'comment': 'Users should decide what extension to enable, independently. Latest Chrome version 64 forced it to unable. Found new Privacy Badger here in the store, whew.'}\n",
      "{'comment': 'It used to work, now it just green lists everything by default. I tried it on both firefox and chrome. I tried a variety of sites that have a variety of trackers and it just lists all the cookies and green lists all of them.'}\n",
      "{'comment': \"Works very well but it's not magic; be prepared to manage some cookies yourself.\"}\n",
      "{'comment': 'i use this with avast security for very good protection'}\n",
      "{'comment': \"It's effective against intrusive ads and spying/tracking.\"}\n",
      "{'comment': 'I installed this and when I go to Extensions I get a warning that says \"Not From Chrome Web Store\", even though I added it from Chrome Web Store.'}\n",
      "{'comment': 'This is fixed as of Privacy Badger 2018.1.25, released earlier today.'}\n",
      "{'comment': 'Great Stuff !'}\n",
      "{'comment': 'It just works A*****'}\n",
      "{'comment': 'IT IS TOTALLY AWESOME!!!'}\n",
      "{'comment': 'Great App!'}\n"
     ]
    }
   ],
   "source": [
    "for com in all_data:\n",
    "    print(com)"
   ]
  },
  {
   "cell_type": "markdown",
   "metadata": {},
   "source": [
    "* If you open that page and inspect elements, you'll notice that there is no accurate number of total pages or entries in the page\n",
    "* We want to loop over all pages, but for a loop to work in python we need to iterate over a collection (we have no collection to derive in the page b/c the x of x pages is incorrect)\n",
    "* I manually navigated the pages and there were 13\n",
    "* I'm using the `range` function below to create a number range to loop over that's finite, there are other ways to get about this\n",
    "* We will also test"
   ]
  },
  {
   "cell_type": "code",
   "execution_count": 27,
   "metadata": {},
   "outputs": [],
   "source": [
    "for p in range(12):\n",
    "    driver.find_element_by_class_name(\"Aa.dc-se\").click()"
   ]
  },
  {
   "cell_type": "code",
   "execution_count": 32,
   "metadata": {},
   "outputs": [
    {
     "ename": "SyntaxError",
     "evalue": "invalid syntax (<ipython-input-32-0df8d6725509>, line 1)",
     "output_type": "error",
     "traceback": [
      "\u001b[0;36m  File \u001b[0;32m\"<ipython-input-32-0df8d6725509>\"\u001b[0;36m, line \u001b[0;32m1\u001b[0m\n\u001b[0;31m    print(driver.find_elements_by_xpath('//a')[@style='display: none;'])\u001b[0m\n\u001b[0m                                               ^\u001b[0m\n\u001b[0;31mSyntaxError\u001b[0m\u001b[0;31m:\u001b[0m invalid syntax\n"
     ]
    }
   ],
   "source": [
    "print(driver.find_elements_by_xpath('//a')[@style='display: none;'])"
   ]
  },
  {
   "cell_type": "code",
   "execution_count": null,
   "metadata": {},
   "outputs": [],
   "source": []
  }
 ],
 "metadata": {
  "kernelspec": {
   "display_name": "Python 3",
   "language": "python",
   "name": "python3"
  },
  "language_info": {
   "codemirror_mode": {
    "name": "ipython",
    "version": 3
   },
   "file_extension": ".py",
   "mimetype": "text/x-python",
   "name": "python",
   "nbconvert_exporter": "python",
   "pygments_lexer": "ipython3",
   "version": "3.6.4"
  }
 },
 "nbformat": 4,
 "nbformat_minor": 2
}
