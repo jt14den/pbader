{
 "cells": [
  {
   "cell_type": "code",
   "execution_count": 1,
   "metadata": {},
   "outputs": [],
   "source": [
    "from selenium import webdriver"
   ]
  },
  {
   "cell_type": "code",
   "execution_count": 2,
   "metadata": {},
   "outputs": [],
   "source": [
    "browser = webdriver.Firefox()"
   ]
  },
  {
   "cell_type": "code",
   "execution_count": 3,
   "metadata": {},
   "outputs": [],
   "source": [
    "browser.get('http://www.fairphone.com/we-are-fairphone/')"
   ]
  },
  {
   "cell_type": "code",
   "execution_count": 4,
   "metadata": {},
   "outputs": [],
   "source": [
    "browser.maximize_window()"
   ]
  },
  {
   "cell_type": "code",
   "execution_count": 6,
   "metadata": {},
   "outputs": [],
   "source": [
    "content = browser.find_element_by_css_selector('div.contents')"
   ]
  },
  {
   "cell_type": "code",
   "execution_count": 8,
   "metadata": {},
   "outputs": [
    {
     "name": "stdout",
     "output_type": "stream",
     "text": [
      "Sign Up\n",
      "Log In\n"
     ]
    }
   ],
   "source": [
    "print(content.text)"
   ]
  },
  {
   "cell_type": "code",
   "execution_count": 9,
   "metadata": {},
   "outputs": [],
   "source": [
    "all_stuff = browser.find_elements_by_css_selector('div.contents')"
   ]
  },
  {
   "cell_type": "code",
   "execution_count": 10,
   "metadata": {},
   "outputs": [
    {
     "name": "stdout",
     "output_type": "stream",
     "text": [
      "Sign Up\n",
      "Log In\n",
      "Category Topics\n",
      "FP2 Help\n",
      "Discuss the Fairphone 2 and get help from the community to get started. If you have a general question about the operating system, please use the FP2 Android 6 category\n",
      "24 / week\n",
      "FP1 Help\n",
      "Discuss the Fairphone 1(U) and get help from the community. If you have a general question about the operating system, please use the FP1 Android 4.2 category\n",
      "2 / week\n",
      "Software\n",
      "Discuss all the software you can use on a Fairphone.\n",
      "Android 6.0\n",
      "FP Open\n",
      "Android 4.2\n",
      "Alternative OSes\n",
      "Alternative OS - LineageOS\n",
      "Developing\n",
      "7 / week\n",
      "Community\n",
      "Join the Fairphone community! Talk about everyday topics, introduce yourself, post memes and anything else that does not belong in any other category.\n",
      "4 / week\n",
      "Road Map\n",
      "Discuss the progress of Fairphone in making fairer electronics and share info that could help Fairphone do even better.\n",
      "236\n",
      "Hardware\n",
      "This is the hardware section of the forum. Talk about electronics and technical stuff inside and outside your Fairphone.\n",
      "Repairs\n",
      "DIY\n",
      "415\n",
      "Market (unofficial)\n",
      "Get and offer used Fairphones and parts for the Fairphone.\n",
      "Offered\n",
      "Wanted\n",
      "6 / week\n",
      "Meta\n",
      "Discussion about this forum, its organization, how it works, and how we can improve it.\n",
      "Dictionary\n",
      "1 / week\n",
      "Latest\n",
      "Welcome to the Fairphone Forum!\n",
      "Meta\n",
      "4\n",
      "Apr '16\n",
      "How do I add a 64 microSD card to FP2?\n",
      "FP2 Help\n",
      "3\n",
      "24m\n",
      "I quit (but it’s not a rant )\n",
      "Community\n",
      "6\n",
      "1h\n",
      "How to dissociate Bluetooth devices?\n",
      "FP2 Help\n",
      "13\n",
      "2h\n",
      "SD-Card suddenly switches to read-only file system\n",
      "Alternative OS - LineageOS\n",
      "sdcard\n",
      "10\n",
      "2h\n",
      "Power on-off button only allows reboot?\n",
      "FP2 Help\n",
      "1\n",
      "4h\n",
      "Generic battery to replace FP1 battery (️see first post for warning)\n",
      "DIY\n",
      "🇩🇪 🇬🇧 experimental\n",
      "146\n",
      "5h\n",
      "I should really clean up more often\n",
      "Community\n",
      "3\n",
      "5h\n",
      "Sailfish OS updates + feature tests\n",
      "Alternative OSes\n",
      "14\n",
      "7h\n",
      "Sailfish OS 2.1.3.7 alpha5 release\n",
      "Alternative OSes\n",
      "18\n",
      "7h\n",
      "Welcome! Introduce yourself here!\n",
      "Community\n",
      "515\n",
      "7h\n",
      "New Fairphone user here, yay!\n",
      "Community\n",
      "2\n",
      "8h\n",
      "TOMTOM Go und Offlinekarten ohne den Google Konto installieren\n",
      "FP Open\n",
      "🇩🇪\n",
      "0\n",
      "8h\n",
      "FP1U offered for sale\n",
      "Offered\n",
      "1\n",
      "9h\n",
      "Fairphone-Treffen Rhein-Ruhr (Düsseldorf + Ruhrgebiet)\n",
      "Community\n",
      "localcommunities meetup 🇩🇪\n",
      "21\n",
      "10h\n",
      "Internet not working with Tele 2 in Russia\n",
      "FP2 Help\n",
      "5\n",
      "12h\n",
      "Save the date: European Fairphoners Community Trip to Amsterdam 2018 (13/8 - 19/8/2018)\n",
      "Community\n",
      "efct18\n",
      "20\n",
      "12h\n",
      "I need a FP1 battery!\n",
      "Wanted\n",
      "2\n",
      "20h\n",
      "The people can hear me with the hand free kit and then suddenly can not hear me any more\n",
      "FP2 Help\n",
      "1\n",
      "21h\n",
      "Updating LineageOS via TWRP + feature test\n",
      "Alternative OS - LineageOS\n",
      "58\n",
      "21h\n",
      "More\n"
     ]
    }
   ],
   "source": [
    "for b in all_stuff:\n",
    "    print(b.text)"
   ]
  },
  {
   "cell_type": "code",
   "execution_count": null,
   "metadata": {},
   "outputs": [],
   "source": []
  }
 ],
 "metadata": {
  "kernelspec": {
   "display_name": "Python 3",
   "language": "python",
   "name": "python3"
  },
  "language_info": {
   "codemirror_mode": {
    "name": "ipython",
    "version": 3
   },
   "file_extension": ".py",
   "mimetype": "text/x-python",
   "name": "python",
   "nbconvert_exporter": "python",
   "pygments_lexer": "ipython3",
   "version": "3.6.4"
  }
 },
 "nbformat": 4,
 "nbformat_minor": 2
}
